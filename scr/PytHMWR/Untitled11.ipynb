{
  "nbformat": 4,
  "nbformat_minor": 0,
  "metadata": {
    "colab": {
      "name": "Untitled11.ipynb",
      "provenance": [],
      "collapsed_sections": []
    },
    "kernelspec": {
      "name": "python3",
      "display_name": "Python 3"
    }
  },
  "cells": [
    {
      "cell_type": "code",
      "metadata": {
        "id": "_TzO6aj4QQmM",
        "colab_type": "code",
        "colab": {}
      },
      "source": [
        "import numpy as np\n",
        "import random\n",
        "import timeit\n",
        "import pandas as pd\n",
        "import matplotlib.pyplot as plt"
      ],
      "execution_count": 0,
      "outputs": []
    },
    {
      "cell_type": "code",
      "metadata": {
        "id": "k0gOx5-xQYRC",
        "colab_type": "code",
        "colab": {}
      },
      "source": [
        "x10 = np.array(random.sample(range(1000), 10))\n",
        "y10 = np.array(random.sample(range(1000), 10))\n",
        "\n",
        "x50 = np.array(random.sample(range(1000), 50))\n",
        "y50 = np.array(random.sample(range(1000), 50))\n",
        "\n",
        "x100 = np.array(random.sample(range(1000), 100))\n",
        "y100 = np.array(random.sample(range(1000), 100))"
      ],
      "execution_count": 0,
      "outputs": []
    },
    {
      "cell_type": "code",
      "metadata": {
        "id": "XVVCk01fQfXi",
        "colab_type": "code",
        "colab": {}
      },
      "source": [
        "#Наивное скалярное произведение.\n",
        "def naiveskmult(x, y):\n",
        "    assert x.ndim == 1 and y.ndim == 1\n",
        "    assert x.size == y.size\n",
        "    result = 0\n",
        "    for i in range(x.size):\n",
        "        result += x[i]*y[i]\n",
        "    return result"
      ],
      "execution_count": 0,
      "outputs": []
    },
    {
      "cell_type": "code",
      "metadata": {
        "id": "qXyznrH1QiL9",
        "colab_type": "code",
        "colab": {}
      },
      "source": [
        "#Произведение NumPy.\n",
        "def scalar(x, y):\n",
        "    assert x.ndim == 1 and y.ndim == 1\n",
        "    assert x.size == y.size\n",
        "    return np.dot(x, y)"
      ],
      "execution_count": 0,
      "outputs": []
    },
    {
      "cell_type": "code",
      "metadata": {
        "id": "ujs32lhcQlDR",
        "colab_type": "code",
        "colab": {}
      },
      "source": [
        "#Функция возвращает время выполнения функции с параметрами x, y.\n",
        "def time_returns(function, x, y):\n",
        "    startTime = timeit.default_timer()\n",
        "    naiveskmult(x, y)\n",
        "    delta = timeit.default_timer() - startTime\n",
        "    return delta\n"
      ],
      "execution_count": 0,
      "outputs": []
    },
    {
      "cell_type": "code",
      "metadata": {
        "id": "V3hU6ZpYQobW",
        "colab_type": "code",
        "colab": {
          "base_uri": "https://localhost:8080/",
          "height": 312
        },
        "outputId": "6e3d7e06-3acd-432c-bff3-18f9198cfbec"
      },
      "source": [
        "#Значения оси ординат.\n",
        "Naive_time = np.array([time_returns(naiveskmult, x10, y10), time_returns(naiveskmult, x50, y50), time_returns(naiveskmult, x100, y100)])\n",
        "NumPy_time = np.array([time_returns(scalar, x10, y10), time_returns(scalar, x50, y50), time_returns(scalar, x100, y100)])\n",
        "\n",
        "#Значения оси абцисс.\n",
        "x_value = [x10.size, x50.size, x100.size]\n",
        "\n",
        "#Построение графика.\n",
        "plt.title(\"Сравнение времени наивного скалярного произведения и numpy\")\n",
        "plt.xlabel(\"Длина вектора\")\n",
        "plt.ylabel(\"Врямя выполнения\")\n",
        "\n",
        "plt.grid()\n",
        "\n",
        "#Oформление графика\n",
        "plt.plot(x_value, Naive_time, '-', color = 'g', label = \"Naive\")\n",
        "plt.plot(x_value, NumPy_time, '-', color = 'y', label = \"NumPy\")\n",
        "\n",
        "plt.legend(loc = \"best\")\n"
      ],
      "execution_count": 81,
      "outputs": [
        {
          "output_type": "execute_result",
          "data": {
            "text/plain": [
              "<matplotlib.legend.Legend at 0x7f16f2244390>"
            ]
          },
          "metadata": {
            "tags": []
          },
          "execution_count": 81
        },
        {
          "output_type": "display_data",
          "data": {
            "image/png": "[encoded data removed]",
            "text/plain": [
              "<Figure size 432x288 with 1 Axes>"
            ]
          },
          "metadata": {
            "tags": [],
            "needs_background": "light"
          }
        }
      ]
    },
    {
      "cell_type": "code",
      "metadata": {
        "id": "F68kvu1AQwYF",
        "colab_type": "code",
        "colab": {
          "base_uri": "https://localhost:8080/",
          "height": 85
        },
        "outputId": "7820e50a-bd80-49b2-a1ba-abb3749efab4"
      },
      "source": [
        "#Сохраняем результаты в DataFrame(вывод таблицы).\n",
        "result_s = pd.DataFrame({\n",
        "    \"Length\": x_value,\n",
        "    \"Naive time\": Naive_time,\n",
        "    \"NumPy time\": NumPy_time\n",
        "})\n",
        "print(result_s)"
      ],
      "execution_count": 82,
      "outputs": [
        {
          "output_type": "stream",
          "text": [
            "   Length  Naive time  NumPy time\n",
            "0      10    0.000023    0.000007\n",
            "1      50    0.000024    0.000023\n",
            "2     100    0.000046    0.000044\n"
          ],
          "name": "stdout"
        }
      ]
    }
  ]
}